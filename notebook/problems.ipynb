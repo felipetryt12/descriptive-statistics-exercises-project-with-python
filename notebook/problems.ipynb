{
    "cells": [
        {
            "cell_type": "markdown",
            "id": "ac622319",
            "metadata": {},
            "source": [
                "# Descriptive statistics problems"
            ]
        },
        {
            "cell_type": "markdown",
            "id": "5e0ab0d5",
            "metadata": {},
            "source": [
                "### Exercise 1\n",
                "\n",
                "We will use NumPy to obtain information to describe statistically.\n",
                "\n",
                "- Generate an array of 100 elements following a normal distribution.\n",
                "- Generate an array of 100 elements following a chi-square distribution with 3 degrees of freedom.\n",
                "- Calculate the main metrics and statistical measures that best describe the two vectors."
            ]
        },
        {
            "cell_type": "code",
            "execution_count": 5,
            "id": "34720ab6",
            "metadata": {},
            "outputs": [
                {
                    "data": {
                        "image/png": "[encoded data removed]",
                        "text/plain": [
                            "<Figure size 640x480 with 1 Axes>"
                        ]
                    },
                    "metadata": {},
                    "output_type": "display_data"
                },
                {
                    "data": {
                        "text/html": [
                            "<div>\n",
                            "<style scoped>\n",
                            "    .dataframe tbody tr th:only-of-type {\n",
                            "        vertical-align: middle;\n",
                            "    }\n",
                            "\n",
                            "    .dataframe tbody tr th {\n",
                            "        vertical-align: top;\n",
                            "    }\n",
                            "\n",
                            "    .dataframe thead th {\n",
                            "        text-align: right;\n",
                            "    }\n",
                            "</style>\n",
                            "<table border=\"1\" class=\"dataframe\">\n",
                            "  <thead>\n",
                            "    <tr style=\"text-align: right;\">\n",
                            "      <th></th>\n",
                            "      <th>Metrica</th>\n",
                            "      <th>Valores</th>\n",
                            "    </tr>\n",
                            "  </thead>\n",
                            "  <tbody>\n",
                            "    <tr>\n",
                            "      <th>0</th>\n",
                            "      <td>Media</td>\n",
                            "      <td>343.148688</td>\n",
                            "    </tr>\n",
                            "    <tr>\n",
                            "      <th>1</th>\n",
                            "      <td>Mediana</td>\n",
                            "      <td>343.161925</td>\n",
                            "    </tr>\n",
                            "    <tr>\n",
                            "      <th>2</th>\n",
                            "      <td>Rango</td>\n",
                            "      <td>9.570006</td>\n",
                            "    </tr>\n",
                            "    <tr>\n",
                            "      <th>3</th>\n",
                            "      <td>Varianza</td>\n",
                            "      <td>3.444854</td>\n",
                            "    </tr>\n",
                            "    <tr>\n",
                            "      <th>4</th>\n",
                            "      <td>Desviacion estandar</td>\n",
                            "      <td>1.856032</td>\n",
                            "    </tr>\n",
                            "    <tr>\n",
                            "      <th>5</th>\n",
                            "      <td>Cuartiles</td>\n",
                            "      <td>341.973117</td>\n",
                            "    </tr>\n",
                            "    <tr>\n",
                            "      <th>6</th>\n",
                            "      <td>Curtoris</td>\n",
                            "      <td>-0.157324</td>\n",
                            "    </tr>\n",
                            "  </tbody>\n",
                            "</table>\n",
                            "</div>"
                        ],
                        "text/plain": [
                            "               Metrica     Valores\n",
                            "0                Media  343.148688\n",
                            "1              Mediana  343.161925\n",
                            "2                Rango    9.570006\n",
                            "3             Varianza    3.444854\n",
                            "4  Desviacion estandar    1.856032\n",
                            "5            Cuartiles  341.973117\n",
                            "6             Curtoris   -0.157324"
                        ]
                    },
                    "execution_count": 5,
                    "metadata": {},
                    "output_type": "execute_result"
                }
            ],
            "source": [
                "# TODO\n",
                "import numpy as np\n",
                "import scipy.stats\n",
                "import matplotlib.pyplot as plt\n",
                "import pandas as pd\n",
                "\n",
                "rng = np.random.default_rng()\n",
                "\n",
                "first = rng.normal(343, 2, (100))\n",
                "y = first\n",
                "plt.hist(y, bins=30, histtype='stepfilled')\n",
                "plt.title('Normal Distribution #1')\n",
                "plt.show()\n",
                "#media, mediana, rango, varianza, desv. estándar, cuartiles, curtosis.\n",
                "the_mean = np.mean(first)\n",
                "the_median = np.median(first)\n",
                "the_std = np.std(first)\n",
                "the_range = np.ptp(first)\n",
                "the_var = np.var(first)\n",
                "the_curtosis = scipy.stats.kurtosis(first)\n",
                "the_cuartiles = np.quantile(first, .25)\n",
                "data = {'Metrica':['Media', 'Mediana', 'Rango','Varianza', 'Desviacion estandar', 'Cuartiles', 'Curtosis'], 'Valores':[the_mean, the_median, the_range, the_var, the_std, the_cuartiles, the_curtosis]}\n",
                "metricas_estadisticas = pd.DataFrame(data)\n",
                "metricas_estadisticas\n"
            ]
        },
        {
            "cell_type": "code",
            "execution_count": 6,
            "id": "c50ce3d7",
            "metadata": {},
            "outputs": [
                {
                    "data": {
                        "image/png": "[encoded data removed]",
                        "text/plain": [
                            "<Figure size 640x480 with 1 Axes>"
                        ]
                    },
                    "metadata": {},
                    "output_type": "display_data"
                },
                {
                    "data": {
                        "text/html": [
                            "<div>\n",
                            "<style scoped>\n",
                            "    .dataframe tbody tr th:only-of-type {\n",
                            "        vertical-align: middle;\n",
                            "    }\n",
                            "\n",
                            "    .dataframe tbody tr th {\n",
                            "        vertical-align: top;\n",
                            "    }\n",
                            "\n",
                            "    .dataframe thead th {\n",
                            "        text-align: right;\n",
                            "    }\n",
                            "</style>\n",
                            "<table border=\"1\" class=\"dataframe\">\n",
                            "  <thead>\n",
                            "    <tr style=\"text-align: right;\">\n",
                            "      <th></th>\n",
                            "      <th>Metrica</th>\n",
                            "      <th>Valores</th>\n",
                            "    </tr>\n",
                            "  </thead>\n",
                            "  <tbody>\n",
                            "    <tr>\n",
                            "      <th>0</th>\n",
                            "      <td>Media</td>\n",
                            "      <td>3.030867</td>\n",
                            "    </tr>\n",
                            "    <tr>\n",
                            "      <th>1</th>\n",
                            "      <td>Mediana</td>\n",
                            "      <td>2.520034</td>\n",
                            "    </tr>\n",
                            "    <tr>\n",
                            "      <th>2</th>\n",
                            "      <td>Rango</td>\n",
                            "      <td>11.262496</td>\n",
                            "    </tr>\n",
                            "    <tr>\n",
                            "      <th>3</th>\n",
                            "      <td>Varianza</td>\n",
                            "      <td>4.709435</td>\n",
                            "    </tr>\n",
                            "    <tr>\n",
                            "      <th>4</th>\n",
                            "      <td>Desviacion estandar</td>\n",
                            "      <td>2.170123</td>\n",
                            "    </tr>\n",
                            "    <tr>\n",
                            "      <th>5</th>\n",
                            "      <td>Cuartiles</td>\n",
                            "      <td>1.310234</td>\n",
                            "    </tr>\n",
                            "    <tr>\n",
                            "      <th>6</th>\n",
                            "      <td>Curtosis</td>\n",
                            "      <td>2.080939</td>\n",
                            "    </tr>\n",
                            "  </tbody>\n",
                            "</table>\n",
                            "</div>"
                        ],
                        "text/plain": [
                            "               Metrica    Valores\n",
                            "0                Media   3.030867\n",
                            "1              Mediana   2.520034\n",
                            "2                Rango  11.262496\n",
                            "3             Varianza   4.709435\n",
                            "4  Desviacion estandar   2.170123\n",
                            "5            Cuartiles   1.310234\n",
                            "6             Curtosis   2.080939"
                        ]
                    },
                    "execution_count": 6,
                    "metadata": {},
                    "output_type": "execute_result"
                }
            ],
            "source": [
                "from scipy.stats import chi2\n",
                "import random\n",
                "\n",
                "df = 3\n",
                "\n",
                "second = chi2.rvs(df, size=100)\n",
                "\n",
                "y = second\n",
                "plt.hist(y, bins=30, histtype='stepfilled')\n",
                "\n",
                "plt.title('Chi-squared with df=3 distribution')\n",
                "plt.show()\n",
                "#media, mediana, rango, varianza, desv. estándar, cuartiles, curtosis.\n",
                "the_mean = np.mean(second)\n",
                "the_median = np.median(second)\n",
                "the_std = np.std(second)\n",
                "the_range = np.ptp(second)\n",
                "the_var = np.var(second)\n",
                "the_curtosis = scipy.stats.kurtosis(second)\n",
                "the_cuartiles = np.quantile(second, .25)\n",
                "data2 = {'Metrica':['Media', 'Mediana', 'Rango','Varianza', 'Desviacion estandar', 'Cuartiles', 'Curtosis'], 'Valores':[the_mean, the_median, the_range, the_var, the_std, the_cuartiles, the_curtosis]}\n",
                "metricas_estadisticas = pd.DataFrame(data2)\n",
                "metricas_estadisticas\n"
            ]
        },
        {
            "cell_type": "markdown",
            "id": "46c70c3d",
            "metadata": {},
            "source": [
                "### Exercise 2\n",
                "\n",
                "Write a Python program to calculate the standard deviation of the following data:\n",
                "\n",
                "```py\n",
                "data = [4, 2, 5, 8, 6]\n",
                "```"
            ]
        },
        {
            "cell_type": "code",
            "execution_count": 45,
            "id": "d590308e",
            "metadata": {},
            "outputs": [
                {
                    "name": "stdout",
                    "output_type": "stream",
                    "text": [
                        "The standard deviation of data is equal to 2.0\n"
                    ]
                },
                {
                    "data": {
                        "text/plain": [
                            "2.0"
                        ]
                    },
                    "execution_count": 45,
                    "metadata": {},
                    "output_type": "execute_result"
                }
            ],
            "source": [
                "# TODO\n",
                "import math\n",
                "def sd():\n",
                "    data = [4,2,5,8,6]\n",
                "    dif_med = []\n",
                "    for i in data:\n",
                "        a = (i- ((sum(data)/len(data))))**2\n",
                "        dif_med.append(a)\n",
                "        b = (sum(dif_med))/(len(data))\n",
                "    return b\n",
                "print(f'The standard deviation of data is equal to {math.sqrt(sd())}')\n",
                "\n",
                "#comprobacion de que la funcion escrita provee la desviacion estandar\n",
                "data_check = np.array([4,2,5,8,6])\n",
                "data_check.std()\n"
            ]
        }
    ],
    "metadata": {
        "interpreter": {
            "hash": "9248718ffe6ce6938b217e69dbcc175ea21f4c6b28a317e96c05334edae734bb"
        },
        "kernelspec": {
            "display_name": "Python 3.9.12 ('ML-BOOTCAMP')",
            "language": "python",
            "name": "python3"
        },
        "language_info": {
            "codemirror_mode": {
                "name": "ipython",
                "version": 3
            },
            "file_extension": ".py",
            "mimetype": "text/x-python",
            "name": "python",
            "nbconvert_exporter": "python",
            "pygments_lexer": "ipython3",
            "version": "3.11.4"
        }
    },
    "nbformat": 4,
    "nbformat_minor": 5
}
